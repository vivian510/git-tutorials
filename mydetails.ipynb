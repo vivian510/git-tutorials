{
 "cells": [
  {
   "cell_type": "code",
   "execution_count": null,
   "id": "a34b584f",
   "metadata": {},
   "outputs": [],
   "source": [
    "email = viviannjagi@gmail.com\n",
    "password = nyawira2024\n",
    "\n",
    "it contains my email and password"
   ]
  }
 ],
 "metadata": {
  "kernelspec": {
   "display_name": "Python 3 (ipykernel)",
   "language": "python",
   "name": "python3"
  },
  "language_info": {
   "codemirror_mode": {
    "name": "ipython",
    "version": 3
   },
   "file_extension": ".py",
   "mimetype": "text/x-python",
   "name": "python",
   "nbconvert_exporter": "python",
   "pygments_lexer": "ipython3",
   "version": "3.11.7"
  }
 },
 "nbformat": 4,
 "nbformat_minor": 5
}
