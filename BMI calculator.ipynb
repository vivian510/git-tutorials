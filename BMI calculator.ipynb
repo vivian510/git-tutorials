{
 "cells": [
  {
   "cell_type": "code",
   "execution_count": 1,
   "id": "6bba776c",
   "metadata": {},
   "outputs": [
    {
     "name": "stdout",
     "output_type": "stream",
     "text": [
      "what is your name: vivian\n",
      "Hello vivian,welcome to our BMI calculator system\n"
     ]
    }
   ],
   "source": [
    "name = input(\"what is your name: \")\n",
    "print(f\"Hello {name},welcome to our BMI calculator system\")"
   ]
  },
  {
   "cell_type": "code",
   "execution_count": 3,
   "id": "7bbd5021",
   "metadata": {},
   "outputs": [
    {
     "name": "stdout",
     "output_type": "stream",
     "text": [
      "Provide us with the information below: \n",
      "Enter your weight in Kgs: 80\n",
      "Enter your height in Meters: 1.25\n",
      "++++++++++BMI Results++++++++++\n",
      "Your BMIis: 51.2\n",
      "Overweight\n"
     ]
    }
   ],
   "source": [
    "print(\"Provide us with the information below: \")\n",
    "weight = float(input(\"Enter your weight in Kgs: \"))\n",
    "height = float(input('Enter your height in Meters: '))\n",
    "\n",
    "BMI = round(weight/(height * height),2)\n",
    "\n",
    "print('++++++++++BMI Results++++++++++')\n",
    "print(f'Your BMIis: {BMI}')\n",
    "\n",
    "if BMI>25:\n",
    "    print(\"Overweight\")\n",
    "elif BMI < 18:\n",
    "    print ('Underweight')\n",
    "else:\n",
    "    print ('Normal')"
   ]
  },
  {
   "cell_type": "code",
   "execution_count": null,
   "id": "3adbb8e4",
   "metadata": {},
   "outputs": [],
   "source": []
  }
 ],
 "metadata": {
  "kernelspec": {
   "display_name": "Python 3 (ipykernel)",
   "language": "python",
   "name": "python3"
  },
  "language_info": {
   "codemirror_mode": {
    "name": "ipython",
    "version": 3
   },
   "file_extension": ".py",
   "mimetype": "text/x-python",
   "name": "python",
   "nbconvert_exporter": "python",
   "pygments_lexer": "ipython3",
   "version": "3.11.7"
  }
 },
 "nbformat": 4,
 "nbformat_minor": 5
}
